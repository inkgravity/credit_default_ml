{
 "cells": [
  {
   "cell_type": "code",
   "execution_count": 2,
   "id": "4d61b586",
   "metadata": {},
   "outputs": [],
   "source": [
    "import pandas as pd \n",
    "import numpy as np \n",
    "from sklearn.datasets import fetch_openml"
   ]
  },
  {
   "cell_type": "code",
   "execution_count": 3,
   "id": "2bd2fd6c",
   "metadata": {},
   "outputs": [
    {
     "name": "stderr",
     "output_type": "stream",
     "text": [
      "/home/codespace/.local/lib/python3.12/site-packages/sklearn/datasets/_openml.py:323: UserWarning: Multiple active versions of the dataset matching the name credit-g exist. Versions may be fundamentally different, returning version 1. Available versions:\n",
      "- version 1, status: active\n",
      "  url: https://www.openml.org/search?type=data&id=31\n",
      "- version 2, status: active\n",
      "  url: https://www.openml.org/search?type=data&id=44096\n",
      "\n",
      "  warn(warning_msg)\n"
     ]
    },
    {
     "name": "stdout",
     "output_type": "stream",
     "text": [
      "Index(['checking_status', 'duration', 'credit_history', 'purpose',\n",
      "       'credit_amount', 'savings_status', 'employment',\n",
      "       'installment_commitment', 'personal_status', 'other_parties',\n",
      "       'residence_since', 'property_magnitude', 'age', 'other_payment_plans',\n",
      "       'housing', 'existing_credits', 'job', 'num_dependents', 'own_telephone',\n",
      "       'foreign_worker', 'class'],\n",
      "      dtype='object')\n",
      "          duration  credit_amount  installment_commitment  residence_since  \\\n",
      "count  1000.000000    1000.000000             1000.000000      1000.000000   \n",
      "mean     20.903000    3271.258000                2.973000         2.845000   \n",
      "std      12.058814    2822.736876                1.118715         1.103718   \n",
      "min       4.000000     250.000000                1.000000         1.000000   \n",
      "25%      12.000000    1365.500000                2.000000         2.000000   \n",
      "50%      18.000000    2319.500000                3.000000         3.000000   \n",
      "75%      24.000000    3972.250000                4.000000         4.000000   \n",
      "max      72.000000   18424.000000                4.000000         4.000000   \n",
      "\n",
      "               age  existing_credits  num_dependents  \n",
      "count  1000.000000       1000.000000     1000.000000  \n",
      "mean     35.546000          1.407000        1.155000  \n",
      "std      11.375469          0.577654        0.362086  \n",
      "min      19.000000          1.000000        1.000000  \n",
      "25%      27.000000          1.000000        1.000000  \n",
      "50%      33.000000          1.000000        1.000000  \n",
      "75%      42.000000          2.000000        1.000000  \n",
      "max      75.000000          4.000000        2.000000  \n",
      "{'id': '31', 'name': 'credit-g', 'version': '1', 'description_version': '31', 'format': 'ARFF', 'creator': 'Dr. Hans Hofmann', 'collection_date': '1994-11-17', 'upload_date': '2014-04-06T23:21:47', 'language': 'English', 'licence': 'Public', 'url': 'https://api.openml.org/data/v1/download/31/credit-g.arff', 'parquet_url': 'https://data.openml.org/datasets/0000/0031/dataset_31.pq', 'file_id': '31', 'default_target_attribute': 'class', 'version_label': '1', 'citation': 'https://archive.ics.uci.edu/ml/citation_policy.html', 'tag': ['credit_scoring', 'Data Science', 'Economics', 'finance_problem', 'mythbusting_1', 'OpenML-CC18', 'OpenML100', 'Statistics', 'study_1', 'study_123', 'study_14', 'study_144', 'study_15', 'study_20', 'study_218', 'study_241', 'study_34', 'study_37', 'study_41', 'study_50', 'study_52', 'study_7', 'study_70', 'study_98', 'study_99', 'uci'], 'visibility': 'public', 'original_data_url': 'https://archive.ics.uci.edu/ml/datasets/statlog+(german+credit+data)', 'paper_url': 'https://dl.acm.org/doi/abs/10.1145/967900.968104', 'minio_url': 'https://data.openml.org/datasets/0000/0031/dataset_31.pq', 'status': 'active', 'processing_date': '2020-11-20 19:44:53', 'md5_checksum': '9a475053fed0c26ee95cd4525e50074c'}\n"
     ]
    }
   ],
   "source": [
    "#load credit-g dataset from OpenML\n",
    "#https://www.openml.org/d/31\n",
    "#German Credit dataset\n",
    "#This dataset classifies people described by a set of attributes as good or bad credit risks.\n",
    "creditg = fetch_openml(name='credit-g',  as_frame=True)\n",
    "print(creditg.frame.columns)\n",
    "print(creditg.frame.describe())\n",
    "print(creditg.details)\n"
   ]
  },
  {
   "cell_type": "code",
   "execution_count": null,
   "id": "45b8f009",
   "metadata": {},
   "outputs": [],
   "source": []
  }
 ],
 "metadata": {
  "kernelspec": {
   "display_name": "Python 3",
   "language": "python",
   "name": "python3"
  },
  "language_info": {
   "codemirror_mode": {
    "name": "ipython",
    "version": 3
   },
   "file_extension": ".py",
   "mimetype": "text/x-python",
   "name": "python",
   "nbconvert_exporter": "python",
   "pygments_lexer": "ipython3",
   "version": "3.12.1"
  }
 },
 "nbformat": 4,
 "nbformat_minor": 5
}
